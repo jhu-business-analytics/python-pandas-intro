{
 "cells": [
  {
   "cell_type": "markdown",
   "metadata": {},
   "source": [
    "# Intro to Python and Data Analysis with Python"
   ]
  },
  {
   "cell_type": "markdown",
   "metadata": {},
   "source": [
    "Up until now, we've used functions and statistical tools in Microsoft Excel to process data to better understand trends, outliers, predictions, and groupings in open data. To better handle, work more quickly with, and process faster data in this course, we'll use the [Python](https://www.python.org) programming language in [Jupyter Lab notebooks](https://jupyter.org). There are many applications for the tools we'll discuss and use in class and for assignments, however, you'll only need to be responsible for how Jupyter and Python relate to the specific data analysis tools we cover in this course. There are several online (both free and paid) [online courses](https://www.codecademy.com/learn/paths/analyze-data-with-python), [video tutorials](https://www.udemy.com/topic/pandas/), and [e-books](https://github.com/jakevdp/PythonDataScienceHandbook) that can help support additional applications in automation, data analysis, and predictive modeling if you wish to broaden your understanding and use cases for Python and data analysis!"
   ]
  },
  {
   "cell_type": "markdown",
   "metadata": {},
   "source": [
    "## Naming Convention for Jupyter Notebooks for Business Analytics "
   ]
  },
  {
   "cell_type": "markdown",
   "metadata": {},
   "source": [
    "For all Jupyter notebooks or code files in this class, please use the naming convention:\n",
    "\n",
    "__year-month-day-github_username-short-descriptive-title-for-notebook__\n",
    "\n",
    "This will help you, and anyone else reading your documents, know when you created the document, know who initially created the document if they want to reach out or ask specific questions, and understand a bit about what's inside the document."
   ]
  },
  {
   "cell_type": "markdown",
   "metadata": {},
   "source": [
    "## About Jupyter Notebooks and Cells"
   ]
  },
  {
   "cell_type": "markdown",
   "metadata": {},
   "source": [
    "There are several ways to write and deploy code, similar to how there are several ways to write and read text documents (Microsoft Word, Pages, Google Docs, Text files, PDF documents, etc.). Jupyter Lab is nice to work with when you're exploring datasets because you can run different iterations of your analysis without needing to run your entire code, you can \"de-bug\" as you iterate on your analysis, and you can incorporate code, visualizations, formatted plain text, and images and hyperlinks in the same document, which can be useful for your own personal documentation as well as sharing your work with others. \n",
    "\n",
    "Jupyter is also [rising in popularity](https://www.nature.com/articles/d41586-018-07196-1) among scientists because of its ease of use."
   ]
  },
  {
   "cell_type": "markdown",
   "metadata": {},
   "source": [
    "We write text and code in Jupyter notebooks in different cells. Plain text cells are designated as __[Markdown](https://nbsphinx.readthedocs.io/en/0.4.3/markdown-cells.html)__ cells and use the same language/formatting that we've covered in GitHub README.md documents. __[Code](https://nbsphinx.readthedocs.io/en/0.4.3/code-cells.html)__ cells interpret and run Python code because we designated this as a Python notebook on launch. __[Raw cells](https://nbsphinx.readthedocs.io/en/0.4.3/raw-cells.html)__ allow you to change the formatting of the cells to HTML, reST, or LaTex, which isn't applicable for what we'll cover in this course."
   ]
  },
  {
   "cell_type": "code",
   "execution_count": 1,
   "metadata": {},
   "outputs": [
    {
     "data": {
      "text/plain": [
       "'or, you can\\nwrite a string of notes\\nwithin three single or double\\nquotation marks'"
      ]
     },
     "execution_count": 1,
     "metadata": {},
     "output_type": "execute_result"
    }
   ],
   "source": [
    "# In \"Code\" cells, we can write Python code\n",
    "# although we can use Markdown cells to write text, it may be useful to write non-python notes in the Code cells as well\n",
    "# We can write notes with either a hashtag in front of the line of code (which means you need a \n",
    "# hashtag in front of every line)\n",
    "\n",
    "\"\"\"or, you can\n",
    "write a string of notes\n",
    "within three single or double\n",
    "quotation marks\"\"\"\n",
    "\n",
    "# to \"run\" any Jupyter cell, you'll need to hold down the \"Shift\" key while pressing \"Return/En\""
   ]
  },
  {
   "cell_type": "markdown",
   "metadata": {},
   "source": [
    "To change a cell from Markdown to Code, you can either click on the cell and change the type from the dropdown menu at the top right of the menu bar. You can also use hotkeys to do this by pressing the \"Escape\" key, then \"M\" to change the cell to a Markdown, or pressing the \"Escape\" key, then \"Y\" to change the cell to a Code cell."
   ]
  },
  {
   "cell_type": "markdown",
   "metadata": {},
   "source": [
    "To add additional cells in your notebook, you can click the \"+\" button on the top left of the menu bar. You can also use hotkeys to add cells above (ESC, then \"A\") or below (ESC, then \"B\") your active cell."
   ]
  },
  {
   "cell_type": "markdown",
   "metadata": {},
   "source": [
    "Jupyter notebooks will save every so often on their own every 120 seconds ([which you can change on your own](https://support.anaconda.com/hc/en-us/articles/360023997353-Change-default-autosave-time-in-notebooks)). You can also save notebook checkpoints, which can be helpful to revert back to the last manually-saved version of your notebook (note though, once you revert back to a checkpoint, you can't undo this action)."
   ]
  },
  {
   "cell_type": "code",
   "execution_count": null,
   "metadata": {},
   "outputs": [],
   "source": []
  },
  {
   "cell_type": "code",
   "execution_count": null,
   "metadata": {},
   "outputs": [],
   "source": []
  },
  {
   "cell_type": "markdown",
   "metadata": {},
   "source": [
    "## About Python "
   ]
  },
  {
   "cell_type": "markdown",
   "metadata": {},
   "source": [
    "Python is increasing in popularity and [\"becoming the world's most popular coding language\"](https://www.economist.com/graphic-detail/2018/07/26/python-is-becoming-the-worlds-most-popular-coding-language) due to it's versatility and simplicity. There may be different computer coding languages that are better suited for more specific statistical analysis (R, STATA) or much larger datasets (SAS), but Python's open source community, flexibility, and ease to learn and implement make it a good tool for us to utilize in our data analysis with larger datasets. "
   ]
  },
  {
   "cell_type": "markdown",
   "metadata": {},
   "source": [
    "Writing Python computer code is like writing a food recipe. We are essentially telling our computer what kind of ingredients and tools (packages and libraries) we need to make the food (carry out our data analysis or other actions). However, unlike humans following a recipe for cake, computers cannot necessarily intuit what a typo or mistake might actually mean. \n",
    "\n",
    "If we read a recipe for cake that says \"1 cup salt\" or even \"1 cup suger,\" we can probably guess that this is a typo and that this might mean \"1 cup sugar.\" However, our Jupyter notebook wil not be able to \"guess\" what we meant if we mis-type something, so capitalization, spacing, and characters matter __a lot__ in our computer code."
   ]
  },
  {
   "cell_type": "code",
   "execution_count": null,
   "metadata": {},
   "outputs": [],
   "source": []
  },
  {
   "cell_type": "markdown",
   "metadata": {},
   "source": [
    "## About Pandas & Data Analysis"
   ]
  },
  {
   "cell_type": "markdown",
   "metadata": {},
   "source": [
    "We're mainly going to use Python for data analysis and geospatial analysis in this class. In our \"Python recipe\" the first thing we'll need to do is import the libraries for data analysis."
   ]
  },
  {
   "cell_type": "markdown",
   "metadata": {},
   "source": [
    "### import libraries "
   ]
  },
  {
   "cell_type": "markdown",
   "metadata": {},
   "source": [
    "Before we can do any data analysis, we need to tell our computer code what we're going to be doing and with what tools. __Pandas__ (which stands for Panel Data--not the animal) is a library that has a set of functions that allow us to interact with and manipulate our data, and __pandas-profiling__ will allow us to get some high-level data about our data without much work."
   ]
  },
  {
   "cell_type": "code",
   "execution_count": 33,
   "metadata": {},
   "outputs": [],
   "source": [
    "# these will allow us to work with data similar to an Excel workbook\n",
    "\n",
    "import pandas as pd \n",
    "import numpy as np"
   ]
  },
  {
   "cell_type": "markdown",
   "metadata": {},
   "source": [
    "### import data "
   ]
  },
  {
   "cell_type": "markdown",
   "metadata": {},
   "source": [
    "Next, we need to import the data for our analysis. In this example, we'll use the Uber Movement data that we used at the beginning of the semester. Because we've uploaded this to [GitHub as a CSV file](https://github.com/jhu-business-analytics/big-picture-data-analysis), we can import this data in two ways with pandas: "
   ]
  },
  {
   "cell_type": "code",
   "execution_count": 10,
   "metadata": {},
   "outputs": [],
   "source": [
    "# we can use read_csv (or read_excel) to import data on a local file\n",
    "# this is called a pandas data frame\n",
    "df_uber_local = pd.read_csv(\"march2019-uber-data.csv\")"
   ]
  },
  {
   "cell_type": "code",
   "execution_count": 7,
   "metadata": {},
   "outputs": [
    {
     "data": {
      "text/html": [
       "<div>\n",
       "<style scoped>\n",
       "    .dataframe tbody tr th:only-of-type {\n",
       "        vertical-align: middle;\n",
       "    }\n",
       "\n",
       "    .dataframe tbody tr th {\n",
       "        vertical-align: top;\n",
       "    }\n",
       "\n",
       "    .dataframe thead th {\n",
       "        text-align: right;\n",
       "    }\n",
       "</style>\n",
       "<table border=\"1\" class=\"dataframe\">\n",
       "  <thead>\n",
       "    <tr style=\"text-align: right;\">\n",
       "      <th></th>\n",
       "      <th>Date Range</th>\n",
       "      <th>Destination Display Name</th>\n",
       "      <th>Destination Movement ID</th>\n",
       "      <th>Mean Travel Time (Seconds)</th>\n",
       "      <th>Origin Display Name</th>\n",
       "      <th>Origin Movement ID</th>\n",
       "      <th>Range - Lower Bound Travel Time (Seconds)</th>\n",
       "      <th>Range - Upper Bound Travel Time (Seconds)</th>\n",
       "    </tr>\n",
       "  </thead>\n",
       "  <tbody>\n",
       "    <tr>\n",
       "      <th>0</th>\n",
       "      <td>3/24/2019 - 3/24/2019, Every day, Daily Average</td>\n",
       "      <td>7500 14th Street Northwest, Northwest Washingt...</td>\n",
       "      <td>1</td>\n",
       "      <td>1930</td>\n",
       "      <td>Union Station Drive Northeast, Northeast Washi...</td>\n",
       "      <td>285</td>\n",
       "      <td>1496</td>\n",
       "      <td>2489</td>\n",
       "    </tr>\n",
       "    <tr>\n",
       "      <th>1</th>\n",
       "      <td>3/24/2019 - 3/24/2019, Every day, Daily Average</td>\n",
       "      <td>5300 43rd Street Northwest, Northwest Washingt...</td>\n",
       "      <td>2</td>\n",
       "      <td>1938</td>\n",
       "      <td>Union Station Drive Northeast, Northeast Washi...</td>\n",
       "      <td>285</td>\n",
       "      <td>1640</td>\n",
       "      <td>2289</td>\n",
       "    </tr>\n",
       "    <tr>\n",
       "      <th>2</th>\n",
       "      <td>3/24/2019 - 3/24/2019, Every day, Daily Average</td>\n",
       "      <td>Massachusetts-39th Trail, Northwest Washington...</td>\n",
       "      <td>3</td>\n",
       "      <td>1531</td>\n",
       "      <td>Union Station Drive Northeast, Northeast Washi...</td>\n",
       "      <td>285</td>\n",
       "      <td>1267</td>\n",
       "      <td>1849</td>\n",
       "    </tr>\n",
       "    <tr>\n",
       "      <th>3</th>\n",
       "      <td>3/24/2019 - 3/24/2019, Every day, Daily Average</td>\n",
       "      <td>1600 21st Street Northwest, Northwest Washingt...</td>\n",
       "      <td>4</td>\n",
       "      <td>1094</td>\n",
       "      <td>Union Station Drive Northeast, Northeast Washi...</td>\n",
       "      <td>285</td>\n",
       "      <td>828</td>\n",
       "      <td>1444</td>\n",
       "    </tr>\n",
       "    <tr>\n",
       "      <th>4</th>\n",
       "      <td>3/24/2019 - 3/24/2019, Every day, Daily Average</td>\n",
       "      <td>800 Mount Vernon Place Northwest, Northwest Wa...</td>\n",
       "      <td>6</td>\n",
       "      <td>535</td>\n",
       "      <td>Union Station Drive Northeast, Northeast Washi...</td>\n",
       "      <td>285</td>\n",
       "      <td>346</td>\n",
       "      <td>826</td>\n",
       "    </tr>\n",
       "  </tbody>\n",
       "</table>\n",
       "</div>"
      ],
      "text/plain": [
       "                                        Date Range  \\\n",
       "0  3/24/2019 - 3/24/2019, Every day, Daily Average   \n",
       "1  3/24/2019 - 3/24/2019, Every day, Daily Average   \n",
       "2  3/24/2019 - 3/24/2019, Every day, Daily Average   \n",
       "3  3/24/2019 - 3/24/2019, Every day, Daily Average   \n",
       "4  3/24/2019 - 3/24/2019, Every day, Daily Average   \n",
       "\n",
       "                            Destination Display Name  Destination Movement ID  \\\n",
       "0  7500 14th Street Northwest, Northwest Washingt...                        1   \n",
       "1  5300 43rd Street Northwest, Northwest Washingt...                        2   \n",
       "2  Massachusetts-39th Trail, Northwest Washington...                        3   \n",
       "3  1600 21st Street Northwest, Northwest Washingt...                        4   \n",
       "4  800 Mount Vernon Place Northwest, Northwest Wa...                        6   \n",
       "\n",
       "   Mean Travel Time (Seconds)  \\\n",
       "0                        1930   \n",
       "1                        1938   \n",
       "2                        1531   \n",
       "3                        1094   \n",
       "4                         535   \n",
       "\n",
       "                                 Origin Display Name  Origin Movement ID  \\\n",
       "0  Union Station Drive Northeast, Northeast Washi...                 285   \n",
       "1  Union Station Drive Northeast, Northeast Washi...                 285   \n",
       "2  Union Station Drive Northeast, Northeast Washi...                 285   \n",
       "3  Union Station Drive Northeast, Northeast Washi...                 285   \n",
       "4  Union Station Drive Northeast, Northeast Washi...                 285   \n",
       "\n",
       "   Range - Lower Bound Travel Time (Seconds)  \\\n",
       "0                                       1496   \n",
       "1                                       1640   \n",
       "2                                       1267   \n",
       "3                                        828   \n",
       "4                                        346   \n",
       "\n",
       "   Range - Upper Bound Travel Time (Seconds)  \n",
       "0                                       2489  \n",
       "1                                       2289  \n",
       "2                                       1849  \n",
       "3                                       1444  \n",
       "4                                        826  "
      ]
     },
     "execution_count": 7,
     "metadata": {},
     "output_type": "execute_result"
    }
   ],
   "source": [
    "# we can preview the first five rows of this data set with df.head()\n",
    "df_uber_local.head()"
   ]
  },
  {
   "cell_type": "code",
   "execution_count": 8,
   "metadata": {},
   "outputs": [],
   "source": [
    "# to import this directly from GitHub, we use the link to the raw CSV file data instead of the local path\n",
    "df_uber_github = pd.read_csv(\"https://raw.githubusercontent.com/jhu-business-analytics/big-picture-data-analysis/master/march2019-uber-data.csv\")"
   ]
  },
  {
   "cell_type": "code",
   "execution_count": 9,
   "metadata": {},
   "outputs": [
    {
     "data": {
      "text/html": [
       "<div>\n",
       "<style scoped>\n",
       "    .dataframe tbody tr th:only-of-type {\n",
       "        vertical-align: middle;\n",
       "    }\n",
       "\n",
       "    .dataframe tbody tr th {\n",
       "        vertical-align: top;\n",
       "    }\n",
       "\n",
       "    .dataframe thead th {\n",
       "        text-align: right;\n",
       "    }\n",
       "</style>\n",
       "<table border=\"1\" class=\"dataframe\">\n",
       "  <thead>\n",
       "    <tr style=\"text-align: right;\">\n",
       "      <th></th>\n",
       "      <th>Date Range</th>\n",
       "      <th>Destination Display Name</th>\n",
       "      <th>Destination Movement ID</th>\n",
       "      <th>Mean Travel Time (Seconds)</th>\n",
       "      <th>Origin Display Name</th>\n",
       "      <th>Origin Movement ID</th>\n",
       "      <th>Range - Lower Bound Travel Time (Seconds)</th>\n",
       "      <th>Range - Upper Bound Travel Time (Seconds)</th>\n",
       "    </tr>\n",
       "  </thead>\n",
       "  <tbody>\n",
       "    <tr>\n",
       "      <th>0</th>\n",
       "      <td>3/24/2019 - 3/24/2019, Every day, Daily Average</td>\n",
       "      <td>7500 14th Street Northwest, Northwest Washingt...</td>\n",
       "      <td>1</td>\n",
       "      <td>1930</td>\n",
       "      <td>Union Station Drive Northeast, Northeast Washi...</td>\n",
       "      <td>285</td>\n",
       "      <td>1496</td>\n",
       "      <td>2489</td>\n",
       "    </tr>\n",
       "    <tr>\n",
       "      <th>1</th>\n",
       "      <td>3/24/2019 - 3/24/2019, Every day, Daily Average</td>\n",
       "      <td>5300 43rd Street Northwest, Northwest Washingt...</td>\n",
       "      <td>2</td>\n",
       "      <td>1938</td>\n",
       "      <td>Union Station Drive Northeast, Northeast Washi...</td>\n",
       "      <td>285</td>\n",
       "      <td>1640</td>\n",
       "      <td>2289</td>\n",
       "    </tr>\n",
       "    <tr>\n",
       "      <th>2</th>\n",
       "      <td>3/24/2019 - 3/24/2019, Every day, Daily Average</td>\n",
       "      <td>Massachusetts-39th Trail, Northwest Washington...</td>\n",
       "      <td>3</td>\n",
       "      <td>1531</td>\n",
       "      <td>Union Station Drive Northeast, Northeast Washi...</td>\n",
       "      <td>285</td>\n",
       "      <td>1267</td>\n",
       "      <td>1849</td>\n",
       "    </tr>\n",
       "    <tr>\n",
       "      <th>3</th>\n",
       "      <td>3/24/2019 - 3/24/2019, Every day, Daily Average</td>\n",
       "      <td>1600 21st Street Northwest, Northwest Washingt...</td>\n",
       "      <td>4</td>\n",
       "      <td>1094</td>\n",
       "      <td>Union Station Drive Northeast, Northeast Washi...</td>\n",
       "      <td>285</td>\n",
       "      <td>828</td>\n",
       "      <td>1444</td>\n",
       "    </tr>\n",
       "    <tr>\n",
       "      <th>4</th>\n",
       "      <td>3/24/2019 - 3/24/2019, Every day, Daily Average</td>\n",
       "      <td>800 Mount Vernon Place Northwest, Northwest Wa...</td>\n",
       "      <td>6</td>\n",
       "      <td>535</td>\n",
       "      <td>Union Station Drive Northeast, Northeast Washi...</td>\n",
       "      <td>285</td>\n",
       "      <td>346</td>\n",
       "      <td>826</td>\n",
       "    </tr>\n",
       "  </tbody>\n",
       "</table>\n",
       "</div>"
      ],
      "text/plain": [
       "                                        Date Range  \\\n",
       "0  3/24/2019 - 3/24/2019, Every day, Daily Average   \n",
       "1  3/24/2019 - 3/24/2019, Every day, Daily Average   \n",
       "2  3/24/2019 - 3/24/2019, Every day, Daily Average   \n",
       "3  3/24/2019 - 3/24/2019, Every day, Daily Average   \n",
       "4  3/24/2019 - 3/24/2019, Every day, Daily Average   \n",
       "\n",
       "                            Destination Display Name  Destination Movement ID  \\\n",
       "0  7500 14th Street Northwest, Northwest Washingt...                        1   \n",
       "1  5300 43rd Street Northwest, Northwest Washingt...                        2   \n",
       "2  Massachusetts-39th Trail, Northwest Washington...                        3   \n",
       "3  1600 21st Street Northwest, Northwest Washingt...                        4   \n",
       "4  800 Mount Vernon Place Northwest, Northwest Wa...                        6   \n",
       "\n",
       "   Mean Travel Time (Seconds)  \\\n",
       "0                        1930   \n",
       "1                        1938   \n",
       "2                        1531   \n",
       "3                        1094   \n",
       "4                         535   \n",
       "\n",
       "                                 Origin Display Name  Origin Movement ID  \\\n",
       "0  Union Station Drive Northeast, Northeast Washi...                 285   \n",
       "1  Union Station Drive Northeast, Northeast Washi...                 285   \n",
       "2  Union Station Drive Northeast, Northeast Washi...                 285   \n",
       "3  Union Station Drive Northeast, Northeast Washi...                 285   \n",
       "4  Union Station Drive Northeast, Northeast Washi...                 285   \n",
       "\n",
       "   Range - Lower Bound Travel Time (Seconds)  \\\n",
       "0                                       1496   \n",
       "1                                       1640   \n",
       "2                                       1267   \n",
       "3                                        828   \n",
       "4                                        346   \n",
       "\n",
       "   Range - Upper Bound Travel Time (Seconds)  \n",
       "0                                       2489  \n",
       "1                                       2289  \n",
       "2                                       1849  \n",
       "3                                       1444  \n",
       "4                                        826  "
      ]
     },
     "execution_count": 9,
     "metadata": {},
     "output_type": "execute_result"
    }
   ],
   "source": [
    "# if we preview the data, we see that this is exactly the same as our exported file\n",
    "df_uber_github.head()"
   ]
  },
  {
   "cell_type": "markdown",
   "metadata": {},
   "source": [
    "__*Note: since these data frames are the same, we can use either in our subsequent analysis. I will use the local version in all examples*__"
   ]
  },
  {
   "cell_type": "markdown",
   "metadata": {},
   "source": [
    "### Understanding our Data "
   ]
  },
  {
   "cell_type": "markdown",
   "metadata": {},
   "source": [
    "Before we start cleaning or conducting analysis with our data, we'll want to get an idea of what's in our data and what we might be able to do with it immediately \"out of the box\""
   ]
  },
  {
   "cell_type": "code",
   "execution_count": 11,
   "metadata": {},
   "outputs": [
    {
     "name": "stdout",
     "output_type": "stream",
     "text": [
      "<class 'pandas.core.frame.DataFrame'>\n",
      "RangeIndex: 5812 entries, 0 to 5811\n",
      "Data columns (total 8 columns):\n",
      "Date Range                                   5812 non-null object\n",
      "Destination Display Name                     5812 non-null object\n",
      "Destination Movement ID                      5812 non-null int64\n",
      "Mean Travel Time (Seconds)                   5812 non-null int64\n",
      "Origin Display Name                          5812 non-null object\n",
      "Origin Movement ID                           5812 non-null int64\n",
      "Range - Lower Bound Travel Time (Seconds)    5812 non-null int64\n",
      "Range - Upper Bound Travel Time (Seconds)    5812 non-null int64\n",
      "dtypes: int64(5), object(3)\n",
      "memory usage: 363.4+ KB\n"
     ]
    }
   ],
   "source": [
    "# df.info() tells us about the data types and number of items in each column in our dataframe\n",
    "df_uber_local.info()"
   ]
  },
  {
   "cell_type": "markdown",
   "metadata": {},
   "source": [
    "In Python, there are 5 different data types that we'll work with:\n",
    "1. integers (int) - these are numbers that don't have a decimal.\n",
    "2. floats (float) - these are numbers that have a decimal. We can perform math functions with integers & integers and integers & floats\n",
    "3. strings (str) - or objects; these are any series of characters, which can be numbers, letters, spaces, special characters, or any combination of those. Strings are delimited with either single quotes ('') or double quotes (\"\")\n",
    "4. Boolean (bool) - data types that are either True or False. Boolean data types are used a lot in Python logic expressions\n",
    "5. datetime (datetime) - for dates and times. Datetime objects allow us to perform calculations with other dates and times"
   ]
  },
  {
   "cell_type": "code",
   "execution_count": 12,
   "metadata": {},
   "outputs": [
    {
     "data": {
      "text/html": [
       "<div>\n",
       "<style scoped>\n",
       "    .dataframe tbody tr th:only-of-type {\n",
       "        vertical-align: middle;\n",
       "    }\n",
       "\n",
       "    .dataframe tbody tr th {\n",
       "        vertical-align: top;\n",
       "    }\n",
       "\n",
       "    .dataframe thead th {\n",
       "        text-align: right;\n",
       "    }\n",
       "</style>\n",
       "<table border=\"1\" class=\"dataframe\">\n",
       "  <thead>\n",
       "    <tr style=\"text-align: right;\">\n",
       "      <th></th>\n",
       "      <th>Destination Movement ID</th>\n",
       "      <th>Mean Travel Time (Seconds)</th>\n",
       "      <th>Origin Movement ID</th>\n",
       "      <th>Range - Lower Bound Travel Time (Seconds)</th>\n",
       "      <th>Range - Upper Bound Travel Time (Seconds)</th>\n",
       "    </tr>\n",
       "  </thead>\n",
       "  <tbody>\n",
       "    <tr>\n",
       "      <th>count</th>\n",
       "      <td>5812.000000</td>\n",
       "      <td>5812.000000</td>\n",
       "      <td>5812.0</td>\n",
       "      <td>5812.000000</td>\n",
       "      <td>5812.000000</td>\n",
       "    </tr>\n",
       "    <tr>\n",
       "      <th>mean</th>\n",
       "      <td>235.115451</td>\n",
       "      <td>1051.950619</td>\n",
       "      <td>285.0</td>\n",
       "      <td>780.313489</td>\n",
       "      <td>1429.865107</td>\n",
       "    </tr>\n",
       "    <tr>\n",
       "      <th>std</th>\n",
       "      <td>126.931052</td>\n",
       "      <td>427.494199</td>\n",
       "      <td>0.0</td>\n",
       "      <td>354.522967</td>\n",
       "      <td>544.749370</td>\n",
       "    </tr>\n",
       "    <tr>\n",
       "      <th>min</th>\n",
       "      <td>1.000000</td>\n",
       "      <td>93.000000</td>\n",
       "      <td>285.0</td>\n",
       "      <td>34.000000</td>\n",
       "      <td>208.000000</td>\n",
       "    </tr>\n",
       "    <tr>\n",
       "      <th>25%</th>\n",
       "      <td>130.000000</td>\n",
       "      <td>751.750000</td>\n",
       "      <td>285.0</td>\n",
       "      <td>533.000000</td>\n",
       "      <td>1051.000000</td>\n",
       "    </tr>\n",
       "    <tr>\n",
       "      <th>50%</th>\n",
       "      <td>237.500000</td>\n",
       "      <td>1020.000000</td>\n",
       "      <td>285.0</td>\n",
       "      <td>749.000000</td>\n",
       "      <td>1386.000000</td>\n",
       "    </tr>\n",
       "    <tr>\n",
       "      <th>75%</th>\n",
       "      <td>344.000000</td>\n",
       "      <td>1312.250000</td>\n",
       "      <td>285.0</td>\n",
       "      <td>986.000000</td>\n",
       "      <td>1758.000000</td>\n",
       "    </tr>\n",
       "    <tr>\n",
       "      <th>max</th>\n",
       "      <td>458.000000</td>\n",
       "      <td>3526.000000</td>\n",
       "      <td>285.0</td>\n",
       "      <td>2195.000000</td>\n",
       "      <td>8477.000000</td>\n",
       "    </tr>\n",
       "  </tbody>\n",
       "</table>\n",
       "</div>"
      ],
      "text/plain": [
       "       Destination Movement ID  Mean Travel Time (Seconds)  \\\n",
       "count              5812.000000                 5812.000000   \n",
       "mean                235.115451                 1051.950619   \n",
       "std                 126.931052                  427.494199   \n",
       "min                   1.000000                   93.000000   \n",
       "25%                 130.000000                  751.750000   \n",
       "50%                 237.500000                 1020.000000   \n",
       "75%                 344.000000                 1312.250000   \n",
       "max                 458.000000                 3526.000000   \n",
       "\n",
       "       Origin Movement ID  Range - Lower Bound Travel Time (Seconds)  \\\n",
       "count              5812.0                                5812.000000   \n",
       "mean                285.0                                 780.313489   \n",
       "std                   0.0                                 354.522967   \n",
       "min                 285.0                                  34.000000   \n",
       "25%                 285.0                                 533.000000   \n",
       "50%                 285.0                                 749.000000   \n",
       "75%                 285.0                                 986.000000   \n",
       "max                 285.0                                2195.000000   \n",
       "\n",
       "       Range - Upper Bound Travel Time (Seconds)  \n",
       "count                                5812.000000  \n",
       "mean                                 1429.865107  \n",
       "std                                   544.749370  \n",
       "min                                   208.000000  \n",
       "25%                                  1051.000000  \n",
       "50%                                  1386.000000  \n",
       "75%                                  1758.000000  \n",
       "max                                  8477.000000  "
      ]
     },
     "execution_count": 12,
     "metadata": {},
     "output_type": "execute_result"
    }
   ],
   "source": [
    "# we can also quickly get an idea of what's happening in the integer/float columns in our dataframe with df.describe()\n",
    "df_uber_local.describe()"
   ]
  },
  {
   "cell_type": "markdown",
   "metadata": {},
   "source": [
    "### Data Cleaning "
   ]
  },
  {
   "cell_type": "markdown",
   "metadata": {},
   "source": [
    "An important aspect of data analysis is *cleaning* the data. This means we need to make sure that it's usable for future data merging and analysis. "
   ]
  },
  {
   "cell_type": "markdown",
   "metadata": {},
   "source": [
    "When we cleaned this data in Excel, we wanted to:\n",
    "1. Create a new column that showed our Mean Travel Time in minutes instead of seconds\n",
    "2. Separate out the dates from the unnecessary words/characters in the Date Range column so that we could sort things by date\n",
    "3. Identify the day of the week and day of the week name for each date"
   ]
  },
  {
   "cell_type": "markdown",
   "metadata": {},
   "source": [
    "When we manipulate data in our data frame columns, we'll identify the data frame and column by:\n",
    "\n",
    "__df_name[\"column_name\"] = action_on_column_or_subset_of_column__"
   ]
  },
  {
   "cell_type": "markdown",
   "metadata": {},
   "source": [
    "#### 1. Create a new column for Mean Travel Time in Minutes"
   ]
  },
  {
   "cell_type": "code",
   "execution_count": 14,
   "metadata": {},
   "outputs": [],
   "source": [
    "# convert Mean Travel Time into Minutes\n",
    "df_uber_local[\"Mean Travel Time (Minutes)\"] = df_uber_local[\"Mean Travel Time (Seconds)\"]/60"
   ]
  },
  {
   "cell_type": "code",
   "execution_count": 15,
   "metadata": {},
   "outputs": [],
   "source": [
    "# round the number in Minutes\n",
    "df_uber_local[\"Mean Travel Time (Minutes)\"] = round(df_uber_local[\"Mean Travel Time (Minutes)\"], #the number you're rounding\n",
    "                                                  2) # the number of digits after the decimal place"
   ]
  },
  {
   "cell_type": "markdown",
   "metadata": {},
   "source": [
    "#### 2. Separate out dates from unnecessary text"
   ]
  },
  {
   "cell_type": "code",
   "execution_count": 17,
   "metadata": {},
   "outputs": [],
   "source": [
    "# separate our values in the Date Range column\n",
    "df_uber_local[\"Date Range\"] = df_uber_local[\"Date Range\"].str.split(\"-\", # where you want to split the string\n",
    "                                                                n = 1, # the number of columns you want to keep\n",
    "                                                                expand = True) # expand the split into new columns?"
   ]
  },
  {
   "cell_type": "markdown",
   "metadata": {},
   "source": [
    "#### 3. Identify day of week and day of week name for each date "
   ]
  },
  {
   "cell_type": "code",
   "execution_count": 18,
   "metadata": {},
   "outputs": [],
   "source": [
    "# convert Date Range column to datetime\n",
    "df_uber_local[\"Date Range\"] = pd.to_datetime(df_uber_local[\"Date Range\"])"
   ]
  },
  {
   "cell_type": "code",
   "execution_count": 20,
   "metadata": {},
   "outputs": [],
   "source": [
    "# identify the name of the week for each date\n",
    "df_uber_local[\"Day of Week\"] = df_uber_local[\"Date Range\"].dt.dayofweek"
   ]
  },
  {
   "cell_type": "code",
   "execution_count": 21,
   "metadata": {},
   "outputs": [],
   "source": [
    "# identify the name of the week for each date\n",
    "df_uber_local[\"Day Name\"] = df_uber_local[\"Date Range\"].dt.weekday_name"
   ]
  },
  {
   "cell_type": "markdown",
   "metadata": {},
   "source": [
    "Now, if we run `df.describe()` and `df.info()`, we'll get a better idea of what our data is telling us: "
   ]
  },
  {
   "cell_type": "code",
   "execution_count": 22,
   "metadata": {},
   "outputs": [
    {
     "data": {
      "text/html": [
       "<div>\n",
       "<style scoped>\n",
       "    .dataframe tbody tr th:only-of-type {\n",
       "        vertical-align: middle;\n",
       "    }\n",
       "\n",
       "    .dataframe tbody tr th {\n",
       "        vertical-align: top;\n",
       "    }\n",
       "\n",
       "    .dataframe thead th {\n",
       "        text-align: right;\n",
       "    }\n",
       "</style>\n",
       "<table border=\"1\" class=\"dataframe\">\n",
       "  <thead>\n",
       "    <tr style=\"text-align: right;\">\n",
       "      <th></th>\n",
       "      <th>Destination Movement ID</th>\n",
       "      <th>Mean Travel Time (Seconds)</th>\n",
       "      <th>Origin Movement ID</th>\n",
       "      <th>Range - Lower Bound Travel Time (Seconds)</th>\n",
       "      <th>Range - Upper Bound Travel Time (Seconds)</th>\n",
       "      <th>Mean Travel Time (Minutes)</th>\n",
       "      <th>Day of Week</th>\n",
       "    </tr>\n",
       "  </thead>\n",
       "  <tbody>\n",
       "    <tr>\n",
       "      <th>count</th>\n",
       "      <td>5812.000000</td>\n",
       "      <td>5812.000000</td>\n",
       "      <td>5812.0</td>\n",
       "      <td>5812.000000</td>\n",
       "      <td>5812.000000</td>\n",
       "      <td>5812.000000</td>\n",
       "      <td>5812.000000</td>\n",
       "    </tr>\n",
       "    <tr>\n",
       "      <th>mean</th>\n",
       "      <td>235.115451</td>\n",
       "      <td>1051.950619</td>\n",
       "      <td>285.0</td>\n",
       "      <td>780.313489</td>\n",
       "      <td>1429.865107</td>\n",
       "      <td>17.532552</td>\n",
       "      <td>3.005162</td>\n",
       "    </tr>\n",
       "    <tr>\n",
       "      <th>std</th>\n",
       "      <td>126.931052</td>\n",
       "      <td>427.494199</td>\n",
       "      <td>0.0</td>\n",
       "      <td>354.522967</td>\n",
       "      <td>544.749370</td>\n",
       "      <td>7.124913</td>\n",
       "      <td>1.996807</td>\n",
       "    </tr>\n",
       "    <tr>\n",
       "      <th>min</th>\n",
       "      <td>1.000000</td>\n",
       "      <td>93.000000</td>\n",
       "      <td>285.0</td>\n",
       "      <td>34.000000</td>\n",
       "      <td>208.000000</td>\n",
       "      <td>1.550000</td>\n",
       "      <td>0.000000</td>\n",
       "    </tr>\n",
       "    <tr>\n",
       "      <th>25%</th>\n",
       "      <td>130.000000</td>\n",
       "      <td>751.750000</td>\n",
       "      <td>285.0</td>\n",
       "      <td>533.000000</td>\n",
       "      <td>1051.000000</td>\n",
       "      <td>12.527500</td>\n",
       "      <td>1.000000</td>\n",
       "    </tr>\n",
       "    <tr>\n",
       "      <th>50%</th>\n",
       "      <td>237.500000</td>\n",
       "      <td>1020.000000</td>\n",
       "      <td>285.0</td>\n",
       "      <td>749.000000</td>\n",
       "      <td>1386.000000</td>\n",
       "      <td>17.000000</td>\n",
       "      <td>3.000000</td>\n",
       "    </tr>\n",
       "    <tr>\n",
       "      <th>75%</th>\n",
       "      <td>344.000000</td>\n",
       "      <td>1312.250000</td>\n",
       "      <td>285.0</td>\n",
       "      <td>986.000000</td>\n",
       "      <td>1758.000000</td>\n",
       "      <td>21.872500</td>\n",
       "      <td>5.000000</td>\n",
       "    </tr>\n",
       "    <tr>\n",
       "      <th>max</th>\n",
       "      <td>458.000000</td>\n",
       "      <td>3526.000000</td>\n",
       "      <td>285.0</td>\n",
       "      <td>2195.000000</td>\n",
       "      <td>8477.000000</td>\n",
       "      <td>58.770000</td>\n",
       "      <td>6.000000</td>\n",
       "    </tr>\n",
       "  </tbody>\n",
       "</table>\n",
       "</div>"
      ],
      "text/plain": [
       "       Destination Movement ID  Mean Travel Time (Seconds)  \\\n",
       "count              5812.000000                 5812.000000   \n",
       "mean                235.115451                 1051.950619   \n",
       "std                 126.931052                  427.494199   \n",
       "min                   1.000000                   93.000000   \n",
       "25%                 130.000000                  751.750000   \n",
       "50%                 237.500000                 1020.000000   \n",
       "75%                 344.000000                 1312.250000   \n",
       "max                 458.000000                 3526.000000   \n",
       "\n",
       "       Origin Movement ID  Range - Lower Bound Travel Time (Seconds)  \\\n",
       "count              5812.0                                5812.000000   \n",
       "mean                285.0                                 780.313489   \n",
       "std                   0.0                                 354.522967   \n",
       "min                 285.0                                  34.000000   \n",
       "25%                 285.0                                 533.000000   \n",
       "50%                 285.0                                 749.000000   \n",
       "75%                 285.0                                 986.000000   \n",
       "max                 285.0                                2195.000000   \n",
       "\n",
       "       Range - Upper Bound Travel Time (Seconds)  Mean Travel Time (Minutes)  \\\n",
       "count                                5812.000000                 5812.000000   \n",
       "mean                                 1429.865107                   17.532552   \n",
       "std                                   544.749370                    7.124913   \n",
       "min                                   208.000000                    1.550000   \n",
       "25%                                  1051.000000                   12.527500   \n",
       "50%                                  1386.000000                   17.000000   \n",
       "75%                                  1758.000000                   21.872500   \n",
       "max                                  8477.000000                   58.770000   \n",
       "\n",
       "       Day of Week  \n",
       "count  5812.000000  \n",
       "mean      3.005162  \n",
       "std       1.996807  \n",
       "min       0.000000  \n",
       "25%       1.000000  \n",
       "50%       3.000000  \n",
       "75%       5.000000  \n",
       "max       6.000000  "
      ]
     },
     "execution_count": 22,
     "metadata": {},
     "output_type": "execute_result"
    }
   ],
   "source": [
    "df_uber_local.describe()"
   ]
  },
  {
   "cell_type": "code",
   "execution_count": 23,
   "metadata": {},
   "outputs": [
    {
     "name": "stdout",
     "output_type": "stream",
     "text": [
      "<class 'pandas.core.frame.DataFrame'>\n",
      "RangeIndex: 5812 entries, 0 to 5811\n",
      "Data columns (total 11 columns):\n",
      "Date Range                                   5812 non-null datetime64[ns]\n",
      "Destination Display Name                     5812 non-null object\n",
      "Destination Movement ID                      5812 non-null int64\n",
      "Mean Travel Time (Seconds)                   5812 non-null int64\n",
      "Origin Display Name                          5812 non-null object\n",
      "Origin Movement ID                           5812 non-null int64\n",
      "Range - Lower Bound Travel Time (Seconds)    5812 non-null int64\n",
      "Range - Upper Bound Travel Time (Seconds)    5812 non-null int64\n",
      "Mean Travel Time (Minutes)                   5812 non-null float64\n",
      "Day of Week                                  5812 non-null int64\n",
      "Day Name                                     5812 non-null object\n",
      "dtypes: datetime64[ns](1), float64(1), int64(6), object(3)\n",
      "memory usage: 499.6+ KB\n"
     ]
    }
   ],
   "source": [
    "df_uber_local.info()"
   ]
  },
  {
   "cell_type": "markdown",
   "metadata": {},
   "source": [
    "### Data Analysis with Uber Data"
   ]
  },
  {
   "cell_type": "markdown",
   "metadata": {},
   "source": [
    "After we cleaned our data, we wanted to look at some big-picture data aggregation to look at the average travel time per day, the percentage of time traveled on each week day, and the average travel time per date. We'll aggregate this information with a pandas groupby aggregation.\n",
    "\n",
    "In a pandas groupby, we can perform calculations on a specific group of data within our dataset and then apply these calculations to the current dataframe (as a new column) or create a new dataframe with grouped and aggregated information.\n",
    "In our example, we'll use .agg to aggregate values in our dataset based on a chosen group (Day Name) by following the following the following convention:\n",
    "\n",
    "`new_dataframe_name = old_data_frame_name.groupby(\"column_we_want_to_group_values_by\")[\"column_we_want_to_perform_group_calculation_on\"].agg([\"function_we_want_to_perform\"]).reset_index()`"
   ]
  },
  {
   "cell_type": "code",
   "execution_count": 30,
   "metadata": {},
   "outputs": [],
   "source": [
    "# aggregate data into a new dataframe that only lists the column(s) we identify in the groupby and the aggregating function\n",
    "df_average_time_day = df_uber_local.groupby(\"Day Name\")[\"Mean Travel Time (Minutes)\"].agg([\"mean\"]).reset_index()"
   ]
  },
  {
   "cell_type": "code",
   "execution_count": 31,
   "metadata": {},
   "outputs": [
    {
     "data": {
      "text/html": [
       "<div>\n",
       "<style scoped>\n",
       "    .dataframe tbody tr th:only-of-type {\n",
       "        vertical-align: middle;\n",
       "    }\n",
       "\n",
       "    .dataframe tbody tr th {\n",
       "        vertical-align: top;\n",
       "    }\n",
       "\n",
       "    .dataframe thead th {\n",
       "        text-align: right;\n",
       "    }\n",
       "</style>\n",
       "<table border=\"1\" class=\"dataframe\">\n",
       "  <thead>\n",
       "    <tr style=\"text-align: right;\">\n",
       "      <th></th>\n",
       "      <th>Day Name</th>\n",
       "      <th>mean</th>\n",
       "    </tr>\n",
       "  </thead>\n",
       "  <tbody>\n",
       "    <tr>\n",
       "      <th>0</th>\n",
       "      <td>Friday</td>\n",
       "      <td>18.541256</td>\n",
       "    </tr>\n",
       "    <tr>\n",
       "      <th>1</th>\n",
       "      <td>Monday</td>\n",
       "      <td>16.439022</td>\n",
       "    </tr>\n",
       "    <tr>\n",
       "      <th>2</th>\n",
       "      <td>Saturday</td>\n",
       "      <td>15.787503</td>\n",
       "    </tr>\n",
       "    <tr>\n",
       "      <th>3</th>\n",
       "      <td>Sunday</td>\n",
       "      <td>15.986010</td>\n",
       "    </tr>\n",
       "    <tr>\n",
       "      <th>4</th>\n",
       "      <td>Thursday</td>\n",
       "      <td>19.959545</td>\n",
       "    </tr>\n",
       "    <tr>\n",
       "      <th>5</th>\n",
       "      <td>Tuesday</td>\n",
       "      <td>17.973280</td>\n",
       "    </tr>\n",
       "    <tr>\n",
       "      <th>6</th>\n",
       "      <td>Wednesday</td>\n",
       "      <td>17.993537</td>\n",
       "    </tr>\n",
       "  </tbody>\n",
       "</table>\n",
       "</div>"
      ],
      "text/plain": [
       "    Day Name       mean\n",
       "0     Friday  18.541256\n",
       "1     Monday  16.439022\n",
       "2   Saturday  15.787503\n",
       "3     Sunday  15.986010\n",
       "4   Thursday  19.959545\n",
       "5    Tuesday  17.973280\n",
       "6  Wednesday  17.993537"
      ]
     },
     "execution_count": 31,
     "metadata": {},
     "output_type": "execute_result"
    }
   ],
   "source": [
    "# show new data frame\n",
    "df_average_time_day"
   ]
  },
  {
   "cell_type": "markdown",
   "metadata": {},
   "source": [
    "We can also still create pivot tables in Python with the following convention:\n",
    "\n",
    "`new_dataframe = pd.pivot_table(old_dataframe, values = columns_we_want_in_values_fields_of_pivot_table, \n",
    "                                       index = columns_we_want_as_row_fields, \n",
    "                                       columns = columns_we_want_as_column_fields, \n",
    "                                       aggfunc = np.function_we_want_to_perform_on_values).reset_index()\n",
    "                                       `\n",
    "                                       \n",
    "If we want to use more than one column in the values, index, or column fields, then we need to make them into a list. For example, if we wanted to use Day Name and Date Range as our row fields, we would write `index = [\"Day Name\", \"Date Range\"]`"
   ]
  },
  {
   "cell_type": "code",
   "execution_count": 34,
   "metadata": {},
   "outputs": [],
   "source": [
    "# pivot table with data\n",
    "df_average_time_pivot = pd.pivot_table(df_uber_local, values = \"Mean Travel Time (Minutes)\", \n",
    "                                       index = \"Day Name\", \n",
    "                                       columns = None, \n",
    "                                       aggfunc = np.mean).reset_index()"
   ]
  },
  {
   "cell_type": "code",
   "execution_count": 35,
   "metadata": {},
   "outputs": [
    {
     "data": {
      "text/html": [
       "<div>\n",
       "<style scoped>\n",
       "    .dataframe tbody tr th:only-of-type {\n",
       "        vertical-align: middle;\n",
       "    }\n",
       "\n",
       "    .dataframe tbody tr th {\n",
       "        vertical-align: top;\n",
       "    }\n",
       "\n",
       "    .dataframe thead th {\n",
       "        text-align: right;\n",
       "    }\n",
       "</style>\n",
       "<table border=\"1\" class=\"dataframe\">\n",
       "  <thead>\n",
       "    <tr style=\"text-align: right;\">\n",
       "      <th></th>\n",
       "      <th>Day Name</th>\n",
       "      <th>Mean Travel Time (Minutes)</th>\n",
       "    </tr>\n",
       "  </thead>\n",
       "  <tbody>\n",
       "    <tr>\n",
       "      <th>0</th>\n",
       "      <td>Friday</td>\n",
       "      <td>18.541256</td>\n",
       "    </tr>\n",
       "    <tr>\n",
       "      <th>1</th>\n",
       "      <td>Monday</td>\n",
       "      <td>16.439022</td>\n",
       "    </tr>\n",
       "    <tr>\n",
       "      <th>2</th>\n",
       "      <td>Saturday</td>\n",
       "      <td>15.787503</td>\n",
       "    </tr>\n",
       "    <tr>\n",
       "      <th>3</th>\n",
       "      <td>Sunday</td>\n",
       "      <td>15.986010</td>\n",
       "    </tr>\n",
       "    <tr>\n",
       "      <th>4</th>\n",
       "      <td>Thursday</td>\n",
       "      <td>19.959545</td>\n",
       "    </tr>\n",
       "    <tr>\n",
       "      <th>5</th>\n",
       "      <td>Tuesday</td>\n",
       "      <td>17.973280</td>\n",
       "    </tr>\n",
       "    <tr>\n",
       "      <th>6</th>\n",
       "      <td>Wednesday</td>\n",
       "      <td>17.993537</td>\n",
       "    </tr>\n",
       "  </tbody>\n",
       "</table>\n",
       "</div>"
      ],
      "text/plain": [
       "    Day Name  Mean Travel Time (Minutes)\n",
       "0     Friday                   18.541256\n",
       "1     Monday                   16.439022\n",
       "2   Saturday                   15.787503\n",
       "3     Sunday                   15.986010\n",
       "4   Thursday                   19.959545\n",
       "5    Tuesday                   17.973280\n",
       "6  Wednesday                   17.993537"
      ]
     },
     "execution_count": 35,
     "metadata": {},
     "output_type": "execute_result"
    }
   ],
   "source": [
    "df_average_time_pivot"
   ]
  },
  {
   "cell_type": "code",
   "execution_count": 36,
   "metadata": {},
   "outputs": [
    {
     "data": {
      "text/html": [
       "<div>\n",
       "<style scoped>\n",
       "    .dataframe tbody tr th:only-of-type {\n",
       "        vertical-align: middle;\n",
       "    }\n",
       "\n",
       "    .dataframe tbody tr th {\n",
       "        vertical-align: top;\n",
       "    }\n",
       "\n",
       "    .dataframe thead th {\n",
       "        text-align: right;\n",
       "    }\n",
       "</style>\n",
       "<table border=\"1\" class=\"dataframe\">\n",
       "  <thead>\n",
       "    <tr style=\"text-align: right;\">\n",
       "      <th></th>\n",
       "      <th>Day Name</th>\n",
       "      <th>mean</th>\n",
       "    </tr>\n",
       "  </thead>\n",
       "  <tbody>\n",
       "    <tr>\n",
       "      <th>0</th>\n",
       "      <td>Friday</td>\n",
       "      <td>18.541256</td>\n",
       "    </tr>\n",
       "    <tr>\n",
       "      <th>1</th>\n",
       "      <td>Monday</td>\n",
       "      <td>16.439022</td>\n",
       "    </tr>\n",
       "    <tr>\n",
       "      <th>2</th>\n",
       "      <td>Saturday</td>\n",
       "      <td>15.787503</td>\n",
       "    </tr>\n",
       "    <tr>\n",
       "      <th>3</th>\n",
       "      <td>Sunday</td>\n",
       "      <td>15.986010</td>\n",
       "    </tr>\n",
       "    <tr>\n",
       "      <th>4</th>\n",
       "      <td>Thursday</td>\n",
       "      <td>19.959545</td>\n",
       "    </tr>\n",
       "    <tr>\n",
       "      <th>5</th>\n",
       "      <td>Tuesday</td>\n",
       "      <td>17.973280</td>\n",
       "    </tr>\n",
       "    <tr>\n",
       "      <th>6</th>\n",
       "      <td>Wednesday</td>\n",
       "      <td>17.993537</td>\n",
       "    </tr>\n",
       "  </tbody>\n",
       "</table>\n",
       "</div>"
      ],
      "text/plain": [
       "    Day Name       mean\n",
       "0     Friday  18.541256\n",
       "1     Monday  16.439022\n",
       "2   Saturday  15.787503\n",
       "3     Sunday  15.986010\n",
       "4   Thursday  19.959545\n",
       "5    Tuesday  17.973280\n",
       "6  Wednesday  17.993537"
      ]
     },
     "execution_count": 36,
     "metadata": {},
     "output_type": "execute_result"
    }
   ],
   "source": [
    "# we can also sort our data by the day of the week name\n",
    "df_average_time_day.sort_values(by=\"Day Name\")"
   ]
  },
  {
   "cell_type": "code",
   "execution_count": null,
   "metadata": {},
   "outputs": [],
   "source": []
  },
  {
   "cell_type": "code",
   "execution_count": null,
   "metadata": {},
   "outputs": [],
   "source": []
  },
  {
   "cell_type": "code",
   "execution_count": null,
   "metadata": {},
   "outputs": [],
   "source": []
  },
  {
   "cell_type": "code",
   "execution_count": null,
   "metadata": {},
   "outputs": [],
   "source": []
  }
 ],
 "metadata": {
  "kernelspec": {
   "display_name": "Python 3",
   "language": "python",
   "name": "python3"
  },
  "language_info": {
   "codemirror_mode": {
    "name": "ipython",
    "version": 3
   },
   "file_extension": ".py",
   "mimetype": "text/x-python",
   "name": "python",
   "nbconvert_exporter": "python",
   "pygments_lexer": "ipython3",
   "version": "3.7.5"
  }
 },
 "nbformat": 4,
 "nbformat_minor": 4
}
